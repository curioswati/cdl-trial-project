{
 "cells": [
  {
   "cell_type": "code",
   "execution_count": 1,
   "metadata": {},
   "outputs": [],
   "source": [
    "import altair as alt\n",
    "import numpy as np\n",
    "import pandas as pd\n",
    "import glob\n",
    "import seaborn as sns\n",
    "import matplotlib.pyplot as plt"
   ]
  },
  {
   "cell_type": "code",
   "execution_count": 2,
   "metadata": {},
   "outputs": [],
   "source": [
    "alt.renderers.enable('notebook')\n",
    "plt.style.use('ggplot')"
   ]
  },
  {
   "cell_type": "code",
   "execution_count": 3,
   "metadata": {},
   "outputs": [],
   "source": [
    "status_files = glob.iglob('../pune_samples/case_status/*.csv')\n",
    "dataframes = [pd.read_csv(f, index_col='CNR Number', parse_dates=True) for f in status_files]\n",
    "df = pd.concat(dataframes, sort=False)"
   ]
  },
  {
   "cell_type": "code",
   "execution_count": null,
   "metadata": {},
   "outputs": [],
   "source": [
    "history_files = glob.iglob('../pune_samples/case_history/*.csv')\n",
    "dataframes = [pd.read_csv(f, parse_dates=True, index_col='CNR') for f in history_files]\n",
    "listing_df = pd.concat(dataframes, sort=False)"
   ]
  },
  {
   "cell_type": "code",
   "execution_count": null,
   "metadata": {},
   "outputs": [],
   "source": [
    "# column formatting\n",
    "to_category = ['Case Type', 'Stage of Case', 'Under Act(s)', 'Judge',\n",
    "               'Court Number', 'Under Section(s)', 'Nature of Disposal']\n",
    "df[to_category] = df[to_category].astype('category')\n",
    "to_date = ['Registration Date', 'First Hearing Date', 'Last Hearing Date',\n",
    "           'Transfer Date', 'Next Hearing Date', 'Decision Date', 'sub_court_DecisionDate']\n",
    "df[to_date] = df[to_date].apply(pd.to_datetime, errors='coerce')"
   ]
  },
  {
   "cell_type": "code",
   "execution_count": null,
   "metadata": {},
   "outputs": [],
   "source": [
    "listing_to_cat = ['Judge', 'Purpose of hearing']\n",
    "listing_to_date = ['Business On Date', 'Hearing Date']\n",
    "listing_df[listing_to_cat] = listing_df[listing_to_cat].astype('category')\n",
    "listing_df[listing_to_date] = listing_df[listing_to_date].apply(pd.to_datetime, errors='coerce')"
   ]
  },
  {
   "cell_type": "code",
   "execution_count": null,
   "metadata": {},
   "outputs": [],
   "source": [
    "cnrs = list(df.index.values)\n",
    "count_series = pd.DataFrame(listing_df.loc[cnrs].groupby('CNR').size(), columns=['no_proceedings'])"
   ]
  },
  {
   "cell_type": "code",
   "execution_count": null,
   "metadata": {},
   "outputs": [],
   "source": [
    "# add proceedings column to df\n",
    "df = pd.concat([df, count_series], axis=1, sort=False)"
   ]
  },
  {
   "cell_type": "code",
   "execution_count": null,
   "metadata": {},
   "outputs": [],
   "source": [
    "decision_days = (df['Decision Date'] - df['First Hearing Date']).dt.days\n",
    "df['decision_days'] = decision_days"
   ]
  },
  {
   "cell_type": "code",
   "execution_count": null,
   "metadata": {},
   "outputs": [],
   "source": [
    "# proceedings frequency table\n",
    "proceeding_freq = pd.DataFrame(df['no_proceedings'].value_counts())\n",
    "proceeding_freq.index.name = 'no of cases'\n",
    "proceeding_freq = proceeding_freq.reset_index()\n",
    "proceeding_freq.columns = ['no_proceedings', 'no of cases']"
   ]
  },
  {
   "cell_type": "code",
   "execution_count": null,
   "metadata": {},
   "outputs": [],
   "source": [
    "alt.Chart(\n",
    "    proceeding_freq,\n",
    "    width=600,\n",
    "    height=300\n",
    ").mark_point().encode(\n",
    "    x=alt.X(\n",
    "        'no_proceedings:Q',\n",
    "        axis=alt.Axis(title='No of proceedings done')\n",
    "    ),\n",
    "    y=alt.Y(\n",
    "        'no of cases:Q',\n",
    "        axis=alt.Axis(title='No of cases taking proceedings')\n",
    "    )\n",
    ").properties(\n",
    "    title='Proceedings wise case statistics'\n",
    ")"
   ]
  },
  {
   "cell_type": "code",
   "execution_count": null,
   "metadata": {},
   "outputs": [],
   "source": [
    "# most common proceeding frequencies grouped by case types.\n",
    "mode = lambda x: x.mode()  if len(x.mode()) < 2 else max(x.mode())\n",
    "mode_proceedings_per_case_type = df.groupby('Case Type', sort=False)['no_proceedings'].agg(mode)\n",
    "alt.Chart(\n",
    "    mode_proceedings_per_case_type.reset_index(),\n",
    "    width=500, height=300\n",
    ").mark_bar().encode(\n",
    "    y=alt.Y(\n",
    "        'Case Type:O',\n",
    "        sort=alt.EncodingSortField(field='no_proceedings', op='sum', order='descending'),\n",
    "        axis=alt.Axis(title='Case Type')\n",
    "    ),\n",
    "    x=alt.X(\n",
    "        'no_proceedings:Q',\n",
    "        axis=alt.Axis(title='No of proceedings')\n",
    "    ),\n",
    "    color=alt.Color(\n",
    "        'Case Type:O',\n",
    "        scale=alt.Scale(range=sns.color_palette('Blues', 12).as_hex()),\n",
    "        sort=alt.EncodingSortField(field='no_proceedings', op='sum', order='ascending')\n",
    "    )\n",
    ").properties(\n",
    "    title='Case Type wise most occuring proceeding counts.'\n",
    ")"
   ]
  },
  {
   "cell_type": "code",
   "execution_count": null,
   "metadata": {},
   "outputs": [],
   "source": [
    "# most common proceeding frequencies grouped by case types.\n",
    "max_proceedings_per_case_type = df.groupby('Case Type', sort=False)['no_proceedings'].max()\n",
    "alt.Chart(\n",
    "    max_proceedings_per_case_type.reset_index(),\n",
    "    width=500, height=300\n",
    ").mark_bar().encode(\n",
    "    y=alt.Y(\n",
    "        'Case Type:O',\n",
    "        sort=alt.EncodingSortField(field='no_proceedings', op='sum', order='descending'),\n",
    "        axis=alt.Axis(title='Case Type')\n",
    "    ),\n",
    "    x=alt.X(\n",
    "        'no_proceedings:Q',\n",
    "        axis=alt.Axis(title='No of proceedings')\n",
    "    ),\n",
    "    color=alt.Color(\n",
    "        'Case Type:O',\n",
    "        scale=alt.Scale(range=sns.color_palette('GnBu_d', 12).as_hex()),\n",
    "        sort=alt.EncodingSortField(field='no_proceedings', op='sum', order='descending')\n",
    "    )\n",
    ").properties(\n",
    "    title='Case Type wise maximum proceedings per case.'\n",
    ")"
   ]
  },
  {
   "cell_type": "code",
   "execution_count": null,
   "metadata": {},
   "outputs": [],
   "source": [
    "sns.set(rc={'figure.figsize':(13, 8)})\n",
    "sns.regplot(x='decision_days', y='no_proceedings', data=df)\n",
    "plt.title('Corelation between no of proceedings and time taken in decision',\n",
    "          fontsize=12, fontweight='bold')\n",
    "plt.xlabel('Days taken in decision', fontsize=10, fontweight='bold')\n",
    "plt.ylabel('No of Proceedings', fontsize=10, fontweight='bold')\n",
    "plt.show()"
   ]
  }
 ],
 "metadata": {
  "kernelspec": {
   "display_name": "Python 2",
   "language": "python",
   "name": "python2"
  },
  "language_info": {
   "codemirror_mode": {
    "name": "ipython",
    "version": 2
   },
   "file_extension": ".py",
   "mimetype": "text/x-python",
   "name": "python",
   "nbconvert_exporter": "python",
   "pygments_lexer": "ipython2",
   "version": "2.7.12"
  }
 },
 "nbformat": 4,
 "nbformat_minor": 2
}
