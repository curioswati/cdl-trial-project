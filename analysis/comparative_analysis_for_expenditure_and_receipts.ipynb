{
 "cells": [
  {
   "cell_type": "code",
   "execution_count": null,
   "metadata": {},
   "outputs": [],
   "source": [
    "import altair as alt\n",
    "import json\n",
    "import matplotlib.pyplot as plt\n",
    "import pandas as pd\n",
    "import seaborn as sns\n",
    "import squarify"
   ]
  },
  {
   "cell_type": "code",
   "execution_count": null,
   "metadata": {},
   "outputs": [],
   "source": [
    "alt.renderers.enable('notebook')"
   ]
  },
  {
   "cell_type": "code",
   "execution_count": null,
   "metadata": {},
   "outputs": [],
   "source": [
    "import wrangler\n",
    "import utils"
   ]
  },
  {
   "cell_type": "code",
   "execution_count": null,
   "metadata": {},
   "outputs": [],
   "source": [
    "receipt_filename = '01._Receipt_-_DDOReceipt_Head_Date_and_Challan_Wise.csv'\n",
    "receipt_filepath = utils.get_munged_filepath(receipt_filename)\n",
    "df = pd.read_csv(receipt_filepath, parse_dates=True)\n",
    "receipt_df = wrangler.wrangle_data_for_receipt(df, ['RECEIPTHEAD'])\n",
    "\n",
    "expenditure_filename = '10._Expenditure_-_DDO_Head_of_AccountSOE_and_VoucherBillNO_wise.csv'\n",
    "expenditure_filepath = utils.get_munged_filepath(expenditure_filename)\n",
    "df = pd.read_csv(expenditure_filepath, parse_dates=True)\n",
    "expenditure_df = wrangler.wrangle_data_for_consolidated_query(df, ['DDODESC', 'DISTRICT', 'TREASURY', 'DDO'])"
   ]
  },
  {
   "cell_type": "code",
   "execution_count": null,
   "metadata": {},
   "outputs": [],
   "source": [
    "def plot_receipt_exp_timeline():\n",
    "    receipt_sample = receipt_df.resample('M')['Net Receipt'].sum()\n",
    "    expenditure_sample = expenditure_df.resample('M')['NETPAYMENT'].sum()\n",
    "    data = pd.concat([receipt_sample, expenditure_sample], axis=1)\n",
    "    data.index.name = 'Date'\n",
    "    \n",
    "    data = pd.melt(data.reset_index(), id_vars='Date', value_vars=['Net Receipt', 'NETPAYMENT'],\n",
    "        var_name='Category', value_name='Amount')\n",
    "    \n",
    "    return alt.Chart(\n",
    "        data.reset_index(),\n",
    "        width=700,\n",
    "        height=350\n",
    "        \n",
    "    ).mark_line(point=True).encode(\n",
    "        \n",
    "        x=alt.X('Date:T',\n",
    "                axis=alt.Axis(title='Timeline (monthly)', format='%b %Y')),\n",
    "        y=alt.Y('Amount:Q',\n",
    "                axis=alt.Axis(title='Amount', format='.2s')),\n",
    "        color='Category',\n",
    "        tooltip=['Category:O', alt.Text('Amount:Q', format='.3s')]\n",
    "    )"
   ]
  },
  {
   "cell_type": "code",
   "execution_count": null,
   "metadata": {},
   "outputs": [],
   "source": [
    "def compare_district_receipt_exp():\n",
    "    receipt_sample = receipt_df.groupby('District')['Net Receipt'].sum()\n",
    "\n",
    "    exp_sample = expenditure_df.groupby('DISTRICT')['NETPAYMENT'].sum()\n",
    "\n",
    "    data = pd.concat([receipt_sample, exp_sample], axis=1).dropna()\n",
    "    data.index.name = 'District'\n",
    "\n",
    "    data = pd.melt(data.reset_index(), id_vars='District', value_vars=['Net Receipt', 'NETPAYMENT'],\n",
    "            var_name='Category', value_name='Amount')\n",
    "    \n",
    "    base = alt.Chart(data)\n",
    "\n",
    "    title = alt.Axis(title='Amount (in Rupees)', format='.2s')\n",
    "    color_scale = alt.Scale(domain=['Net Receipt', 'NETPAYMENT'],\n",
    "                            range=['#1f77b4', '#e377c2'])\n",
    "\n",
    "    left = base.transform_filter(\n",
    "        alt.expr.datum.Category == 'Net Receipt'\n",
    "    ).encode(\n",
    "        y=alt.X('District:N',\n",
    "                axis=None),\n",
    "        x=alt.X('Amount:Q', axis=title, sort=alt.SortOrder('descending')),\n",
    "        color=alt.Color('Category:O', legend=None),\n",
    "        tooltip=['District:N', alt.Text('Amount:Q', format='.3s')],\n",
    "    ).mark_bar().properties(title='Net Receipt')\n",
    "\n",
    "    middle = base.encode(\n",
    "        y=alt.X('District:N', axis=None),\n",
    "        text=alt.Text('District:N'),\n",
    "    ).mark_text().properties(width=85)\n",
    "\n",
    "    right = base.transform_filter(\n",
    "        alt.expr.datum.Category == 'NETPAYMENT'\n",
    "    ).encode(\n",
    "        y=alt.X('District:N',\n",
    "                axis=None),\n",
    "        x=alt.X('Amount:Q', axis=title),\n",
    "        color=alt.Color('Category:O', legend=None),\n",
    "        tooltip=['District:N', alt.Text('Amount:Q', format='.3s')]\n",
    "    ).mark_bar().properties(title='NETPAYMENT')\n",
    "\n",
    "    return left | middle | right"
   ]
  }
 ],
 "metadata": {
  "kernelspec": {
   "display_name": "Python 2",
   "language": "python",
   "name": "python2"
  },
  "language_info": {
   "codemirror_mode": {
    "name": "ipython",
    "version": 2
   },
   "file_extension": ".py",
   "mimetype": "text/x-python",
   "name": "python",
   "nbconvert_exporter": "python",
   "pygments_lexer": "ipython2",
   "version": "2.7.12"
  }
 },
 "nbformat": 4,
 "nbformat_minor": 2
}
